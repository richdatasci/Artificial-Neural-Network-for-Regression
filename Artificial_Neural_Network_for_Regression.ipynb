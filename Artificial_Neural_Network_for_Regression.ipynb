{
  "nbformat": 4,
  "nbformat_minor": 0,
  "metadata": {
    "colab": {
      "name": "Artificial Neural Network for Regression.ipynb",
      "provenance": [],
      "collapsed_sections": []
    },
    "kernelspec": {
      "name": "python3",
      "display_name": "Python 3"
    },
    "language_info": {
      "name": "python"
    }
  },
  "cells": [
    {
      "cell_type": "markdown",
      "source": [
        "#ANN for Regression"
      ],
      "metadata": {
        "id": "9D9z3Q1r_zie"
      }
    },
    {
      "cell_type": "markdown",
      "source": [
        "### Import Libraries"
      ],
      "metadata": {
        "id": "TIE9Fyq8Bif1"
      }
    },
    {
      "cell_type": "code",
      "execution_count": 1,
      "metadata": {
        "id": "erHDHRfa_ekt"
      },
      "outputs": [],
      "source": [
        "import pandas as pd\n",
        "import numpy as np\n",
        "import tensorflow as tf"
      ]
    },
    {
      "cell_type": "markdown",
      "source": [
        "## Data Preprocessing"
      ],
      "metadata": {
        "id": "-8jJkiOXBrKK"
      }
    },
    {
      "cell_type": "markdown",
      "source": [
        "### Import Dataset"
      ],
      "metadata": {
        "id": "zj0OHKgtCmhk"
      }
    },
    {
      "cell_type": "code",
      "source": [
        "dataset = pd.read_excel(\"Folds5x2_pp.xlsx\")\n",
        "x = dataset.iloc[:, :-1].values\n",
        "y = dataset.iloc[:, -1].values"
      ],
      "metadata": {
        "id": "8o0reKCnBuzE"
      },
      "execution_count": 4,
      "outputs": []
    },
    {
      "cell_type": "markdown",
      "source": [
        "### Split the dataset into train and test sets"
      ],
      "metadata": {
        "id": "MPjERyEJEXj5"
      }
    },
    {
      "cell_type": "code",
      "source": [
        "from sklearn.model_selection import train_test_split\n",
        "\n",
        "x_train, x_test, y_train, y_test = train_test_split(x, y, test_size = 0.2, random_state = 42)"
      ],
      "metadata": {
        "id": "L_zsN0gmEbej"
      },
      "execution_count": 5,
      "outputs": []
    },
    {
      "cell_type": "markdown",
      "source": [
        "## Building the ANN"
      ],
      "metadata": {
        "id": "vuYIGJysE0Wi"
      }
    },
    {
      "cell_type": "markdown",
      "source": [
        "### Initialise the ANN"
      ],
      "metadata": {
        "id": "SBqgL50qFvL5"
      }
    },
    {
      "cell_type": "code",
      "source": [
        "ann = tf.keras.models.Sequential()"
      ],
      "metadata": {
        "id": "ckm9T1R9E2_Y"
      },
      "execution_count": 6,
      "outputs": []
    },
    {
      "cell_type": "markdown",
      "source": [
        "### Adding the input layer and the first hidden layer"
      ],
      "metadata": {
        "id": "9U1S1wB_F4DF"
      }
    },
    {
      "cell_type": "code",
      "source": [
        "ann.add(tf.keras.layers.Dense(units = 6, activation = \"relu\"))"
      ],
      "metadata": {
        "id": "pvdVlDukGE5-"
      },
      "execution_count": 7,
      "outputs": []
    },
    {
      "cell_type": "markdown",
      "source": [
        "### Adding the second layer"
      ],
      "metadata": {
        "id": "BZOtyse7HJKC"
      }
    },
    {
      "cell_type": "code",
      "source": [
        "ann.add(tf.keras.layers.Dense(units = 6, activation = \"relu\"))"
      ],
      "metadata": {
        "id": "9D3F0cU3HNI5"
      },
      "execution_count": 8,
      "outputs": []
    },
    {
      "cell_type": "markdown",
      "source": [
        "### Adding the output layer"
      ],
      "metadata": {
        "id": "cyuT0EJ9Hde6"
      }
    },
    {
      "cell_type": "code",
      "source": [
        "ann.add(tf.keras.layers.Dense(units = 1))"
      ],
      "metadata": {
        "id": "svfCfNz4Hge7"
      },
      "execution_count": 9,
      "outputs": []
    },
    {
      "cell_type": "markdown",
      "source": [
        "## Training the ANN"
      ],
      "metadata": {
        "id": "AuMZ9iZUId-N"
      }
    },
    {
      "cell_type": "markdown",
      "source": [
        "### Compiling the ANN"
      ],
      "metadata": {
        "id": "6dxDGcB8Ih5J"
      }
    },
    {
      "cell_type": "code",
      "source": [
        "ann.compile(optimizer = \"adam\", loss = \"mean_squared_error\") "
      ],
      "metadata": {
        "id": "0PLS_m3BIkUp"
      },
      "execution_count": 10,
      "outputs": []
    },
    {
      "cell_type": "markdown",
      "source": [
        "### Train the ANN model on the training set"
      ],
      "metadata": {
        "id": "G0jfFdrqKxrB"
      }
    },
    {
      "cell_type": "code",
      "source": [
        "ann.fit(x_train, y_train, batch_size = 32, epochs = 100)"
      ],
      "metadata": {
        "colab": {
          "base_uri": "https://localhost:8080/"
        },
        "id": "oJm08bTaK0tp",
        "outputId": "cffbee68-cc95-472a-c402-c1d326b9b0fa"
      },
      "execution_count": 11,
      "outputs": [
        {
          "output_type": "stream",
          "name": "stdout",
          "text": [
            "Epoch 1/100\n",
            "240/240 [==============================] - 1s 950us/step - loss: 108522.1406\n",
            "Epoch 2/100\n",
            "240/240 [==============================] - 0s 999us/step - loss: 1757.0120\n",
            "Epoch 3/100\n",
            "240/240 [==============================] - 0s 975us/step - loss: 480.8323\n",
            "Epoch 4/100\n",
            "240/240 [==============================] - 0s 966us/step - loss: 369.4149\n",
            "Epoch 5/100\n",
            "240/240 [==============================] - 0s 994us/step - loss: 285.6990\n",
            "Epoch 6/100\n",
            "240/240 [==============================] - 0s 948us/step - loss: 217.0420\n",
            "Epoch 7/100\n",
            "240/240 [==============================] - 0s 979us/step - loss: 161.9352\n",
            "Epoch 8/100\n",
            "240/240 [==============================] - 0s 961us/step - loss: 120.6364\n",
            "Epoch 9/100\n",
            "240/240 [==============================] - 0s 958us/step - loss: 92.4384\n",
            "Epoch 10/100\n",
            "240/240 [==============================] - 0s 948us/step - loss: 73.7891\n",
            "Epoch 11/100\n",
            "240/240 [==============================] - 0s 918us/step - loss: 62.9993\n",
            "Epoch 12/100\n",
            "240/240 [==============================] - 0s 963us/step - loss: 56.6777\n",
            "Epoch 13/100\n",
            "240/240 [==============================] - 0s 926us/step - loss: 52.1374\n",
            "Epoch 14/100\n",
            "240/240 [==============================] - 0s 921us/step - loss: 48.4952\n",
            "Epoch 15/100\n",
            "240/240 [==============================] - 0s 887us/step - loss: 45.1400\n",
            "Epoch 16/100\n",
            "240/240 [==============================] - 0s 975us/step - loss: 42.0790\n",
            "Epoch 17/100\n",
            "240/240 [==============================] - 0s 962us/step - loss: 39.9725\n",
            "Epoch 18/100\n",
            "240/240 [==============================] - 0s 954us/step - loss: 38.3323\n",
            "Epoch 19/100\n",
            "240/240 [==============================] - 0s 948us/step - loss: 37.0736\n",
            "Epoch 20/100\n",
            "240/240 [==============================] - 0s 959us/step - loss: 35.3561\n",
            "Epoch 21/100\n",
            "240/240 [==============================] - 0s 969us/step - loss: 34.0645\n",
            "Epoch 22/100\n",
            "240/240 [==============================] - 0s 959us/step - loss: 33.1865\n",
            "Epoch 23/100\n",
            "240/240 [==============================] - 0s 970us/step - loss: 32.6456\n",
            "Epoch 24/100\n",
            "240/240 [==============================] - 0s 953us/step - loss: 32.2754\n",
            "Epoch 25/100\n",
            "240/240 [==============================] - 0s 931us/step - loss: 32.5228\n",
            "Epoch 26/100\n",
            "240/240 [==============================] - 0s 968us/step - loss: 31.5967\n",
            "Epoch 27/100\n",
            "240/240 [==============================] - 0s 995us/step - loss: 31.0699\n",
            "Epoch 28/100\n",
            "240/240 [==============================] - 0s 920us/step - loss: 31.2465\n",
            "Epoch 29/100\n",
            "240/240 [==============================] - 0s 991us/step - loss: 31.3315\n",
            "Epoch 30/100\n",
            "240/240 [==============================] - 0s 960us/step - loss: 30.1984\n",
            "Epoch 31/100\n",
            "240/240 [==============================] - 0s 954us/step - loss: 29.8386\n",
            "Epoch 32/100\n",
            "240/240 [==============================] - 0s 947us/step - loss: 29.8395\n",
            "Epoch 33/100\n",
            "240/240 [==============================] - 0s 985us/step - loss: 29.3912\n",
            "Epoch 34/100\n",
            "240/240 [==============================] - 0s 1ms/step - loss: 29.1280\n",
            "Epoch 35/100\n",
            "240/240 [==============================] - 0s 945us/step - loss: 28.5063\n",
            "Epoch 36/100\n",
            "240/240 [==============================] - 0s 930us/step - loss: 29.2798\n",
            "Epoch 37/100\n",
            "240/240 [==============================] - 0s 1ms/step - loss: 28.9383\n",
            "Epoch 38/100\n",
            "240/240 [==============================] - 0s 941us/step - loss: 28.2752\n",
            "Epoch 39/100\n",
            "240/240 [==============================] - 0s 956us/step - loss: 28.7008\n",
            "Epoch 40/100\n",
            "240/240 [==============================] - 0s 994us/step - loss: 27.9186\n",
            "Epoch 41/100\n",
            "240/240 [==============================] - 0s 961us/step - loss: 27.8327\n",
            "Epoch 42/100\n",
            "240/240 [==============================] - 0s 952us/step - loss: 28.4950\n",
            "Epoch 43/100\n",
            "240/240 [==============================] - 0s 982us/step - loss: 27.7237\n",
            "Epoch 44/100\n",
            "240/240 [==============================] - 0s 956us/step - loss: 27.8630\n",
            "Epoch 45/100\n",
            "240/240 [==============================] - 0s 993us/step - loss: 28.1712\n",
            "Epoch 46/100\n",
            "240/240 [==============================] - 0s 1ms/step - loss: 27.6789\n",
            "Epoch 47/100\n",
            "240/240 [==============================] - 0s 954us/step - loss: 27.2479\n",
            "Epoch 48/100\n",
            "240/240 [==============================] - 0s 1ms/step - loss: 27.5196\n",
            "Epoch 49/100\n",
            "240/240 [==============================] - 0s 962us/step - loss: 27.5835\n",
            "Epoch 50/100\n",
            "240/240 [==============================] - 0s 987us/step - loss: 28.0545\n",
            "Epoch 51/100\n",
            "240/240 [==============================] - 0s 977us/step - loss: 27.1800\n",
            "Epoch 52/100\n",
            "240/240 [==============================] - 0s 949us/step - loss: 27.7846\n",
            "Epoch 53/100\n",
            "240/240 [==============================] - 0s 978us/step - loss: 27.7824\n",
            "Epoch 54/100\n",
            "240/240 [==============================] - 0s 1ms/step - loss: 27.7034\n",
            "Epoch 55/100\n",
            "240/240 [==============================] - 0s 991us/step - loss: 26.9207\n",
            "Epoch 56/100\n",
            "240/240 [==============================] - 0s 960us/step - loss: 27.2982\n",
            "Epoch 57/100\n",
            "240/240 [==============================] - 0s 949us/step - loss: 27.5475\n",
            "Epoch 58/100\n",
            "240/240 [==============================] - 0s 983us/step - loss: 26.7311\n",
            "Epoch 59/100\n",
            "240/240 [==============================] - 0s 998us/step - loss: 27.3977\n",
            "Epoch 60/100\n",
            "240/240 [==============================] - 0s 957us/step - loss: 27.0321\n",
            "Epoch 61/100\n",
            "240/240 [==============================] - 0s 998us/step - loss: 27.2914\n",
            "Epoch 62/100\n",
            "240/240 [==============================] - 0s 981us/step - loss: 27.2684\n",
            "Epoch 63/100\n",
            "240/240 [==============================] - 0s 957us/step - loss: 28.0957\n",
            "Epoch 64/100\n",
            "240/240 [==============================] - 0s 1ms/step - loss: 27.3221\n",
            "Epoch 65/100\n",
            "240/240 [==============================] - 0s 934us/step - loss: 27.4879\n",
            "Epoch 66/100\n",
            "240/240 [==============================] - 0s 950us/step - loss: 26.8195\n",
            "Epoch 67/100\n",
            "240/240 [==============================] - 0s 979us/step - loss: 26.8795\n",
            "Epoch 68/100\n",
            "240/240 [==============================] - 0s 978us/step - loss: 27.9085\n",
            "Epoch 69/100\n",
            "240/240 [==============================] - 0s 951us/step - loss: 26.6163\n",
            "Epoch 70/100\n",
            "240/240 [==============================] - 0s 950us/step - loss: 27.1900\n",
            "Epoch 71/100\n",
            "240/240 [==============================] - 0s 987us/step - loss: 27.1136\n",
            "Epoch 72/100\n",
            "240/240 [==============================] - 0s 908us/step - loss: 27.0995\n",
            "Epoch 73/100\n",
            "240/240 [==============================] - 0s 911us/step - loss: 27.0005\n",
            "Epoch 74/100\n",
            "240/240 [==============================] - 0s 962us/step - loss: 27.9601\n",
            "Epoch 75/100\n",
            "240/240 [==============================] - 0s 986us/step - loss: 27.0411\n",
            "Epoch 76/100\n",
            "240/240 [==============================] - 0s 933us/step - loss: 26.9056\n",
            "Epoch 77/100\n",
            "240/240 [==============================] - 0s 1ms/step - loss: 27.8701\n",
            "Epoch 78/100\n",
            "240/240 [==============================] - 0s 948us/step - loss: 27.2110\n",
            "Epoch 79/100\n",
            "240/240 [==============================] - 0s 1ms/step - loss: 27.6305\n",
            "Epoch 80/100\n",
            "240/240 [==============================] - 0s 929us/step - loss: 26.8360\n",
            "Epoch 81/100\n",
            "240/240 [==============================] - 0s 965us/step - loss: 27.4003\n",
            "Epoch 82/100\n",
            "240/240 [==============================] - 0s 955us/step - loss: 27.2076\n",
            "Epoch 83/100\n",
            "240/240 [==============================] - 0s 970us/step - loss: 27.7613\n",
            "Epoch 84/100\n",
            "240/240 [==============================] - 0s 978us/step - loss: 27.8243\n",
            "Epoch 85/100\n",
            "240/240 [==============================] - 0s 975us/step - loss: 27.0882\n",
            "Epoch 86/100\n",
            "240/240 [==============================] - 0s 986us/step - loss: 27.2197\n",
            "Epoch 87/100\n",
            "240/240 [==============================] - 0s 974us/step - loss: 27.1458\n",
            "Epoch 88/100\n",
            "240/240 [==============================] - 0s 1ms/step - loss: 26.9693\n",
            "Epoch 89/100\n",
            "240/240 [==============================] - 0s 1ms/step - loss: 27.1047\n",
            "Epoch 90/100\n",
            "240/240 [==============================] - 0s 965us/step - loss: 27.1613\n",
            "Epoch 91/100\n",
            "240/240 [==============================] - 0s 982us/step - loss: 26.8611\n",
            "Epoch 92/100\n",
            "240/240 [==============================] - 0s 1ms/step - loss: 27.8741\n",
            "Epoch 93/100\n",
            "240/240 [==============================] - 0s 990us/step - loss: 27.7632\n",
            "Epoch 94/100\n",
            "240/240 [==============================] - 0s 946us/step - loss: 27.7659\n",
            "Epoch 95/100\n",
            "240/240 [==============================] - 0s 955us/step - loss: 27.4273\n",
            "Epoch 96/100\n",
            "240/240 [==============================] - 0s 1ms/step - loss: 26.9634\n",
            "Epoch 97/100\n",
            "240/240 [==============================] - 0s 974us/step - loss: 27.1464\n",
            "Epoch 98/100\n",
            "240/240 [==============================] - 0s 981us/step - loss: 28.7169\n",
            "Epoch 99/100\n",
            "240/240 [==============================] - 0s 982us/step - loss: 27.2403\n",
            "Epoch 100/100\n",
            "240/240 [==============================] - 0s 1ms/step - loss: 27.1750\n"
          ]
        },
        {
          "output_type": "execute_result",
          "data": {
            "text/plain": [
              "<keras.callbacks.History at 0x7fb5e7fdc8d0>"
            ]
          },
          "metadata": {},
          "execution_count": 11
        }
      ]
    },
    {
      "cell_type": "markdown",
      "source": [
        "### Making a prediction"
      ],
      "metadata": {
        "id": "ZQThrqwsMTci"
      }
    },
    {
      "cell_type": "code",
      "source": [
        "y_pred = ann.predict(x_test)\n",
        "np.set_printoptions(precision = 2)\n",
        "# make a comparison\n",
        "print(np.concatenate((y_pred.reshape(len(y_pred), 1), y_test.reshape(len(y_test), 1)), 1))"
      ],
      "metadata": {
        "colab": {
          "base_uri": "https://localhost:8080/"
        },
        "id": "wVosUf8uMdE1",
        "outputId": "987dc2ca-7bec-4df0-bb59-01ddf7d23258"
      },
      "execution_count": 12,
      "outputs": [
        {
          "output_type": "stream",
          "name": "stdout",
          "text": [
            "[[455.5  455.27]\n",
            " [437.64 436.31]\n",
            " [432.58 440.68]\n",
            " ...\n",
            " [479.9  479.53]\n",
            " [434.69 435.76]\n",
            " [458.66 457.1 ]]\n"
          ]
        }
      ]
    }
  ]
}